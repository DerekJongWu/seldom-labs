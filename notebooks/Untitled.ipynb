{
 "cells": [
  {
   "cell_type": "markdown",
   "id": "2130aa31-ada6-4dda-9262-8c4e1df0be22",
   "metadata": {},
   "source": [
    "# Gambit Experiment"
   ]
  },
  {
   "cell_type": "markdown",
   "id": "934b2cf2-4b98-471f-9d3b-118bfc5f05b6",
   "metadata": {},
   "source": [
    "This notebook experiments with the Gambit software package to understand its capabilities and how it might fit with our efforts for monte carlo simulations and explainability"
   ]
  },
  {
   "cell_type": "code",
   "execution_count": null,
   "id": "ea4d0150-0742-4f19-ba52-3c1af7135a73",
   "metadata": {},
   "outputs": [],
   "source": []
  }
 ],
 "metadata": {
  "kernelspec": {
   "display_name": "Python 3 (ipykernel)",
   "language": "python",
   "name": "python3"
  },
  "language_info": {
   "codemirror_mode": {
    "name": "ipython",
    "version": 3
   },
   "file_extension": ".py",
   "mimetype": "text/x-python",
   "name": "python",
   "nbconvert_exporter": "python",
   "pygments_lexer": "ipython3",
   "version": "3.12.2"
  }
 },
 "nbformat": 4,
 "nbformat_minor": 5
}
